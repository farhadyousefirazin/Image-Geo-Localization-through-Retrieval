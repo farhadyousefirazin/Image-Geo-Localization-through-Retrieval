{
 "cells": [
  {
   "cell_type": "code",
   "execution_count": 3,
   "metadata": {},
   "outputs": [],
   "source": [
    "import os\n",
    "import cv2\n",
    "import numpy as np\n",
    "from imageio import imread, imwrite\n",
    "from PIL import Image, ImageEnhance"
   ]
  },
  {
   "cell_type": "markdown",
   "metadata": {},
   "source": [
    "### Flipping"
   ]
  },
  {
   "cell_type": "code",
   "execution_count": 1,
   "metadata": {},
   "outputs": [],
   "source": [
    "def flip_images(input_dir, output_dir):\n",
    "    # Create output directory if it doesn't exist\n",
    "    if not os.path.exists(output_dir):\n",
    "        os.makedirs(output_dir)\n",
    "\n",
    "    # Process each image in the input directory\n",
    "    for filename in os.listdir(input_dir):\n",
    "        if filename.endswith(\".jpg\") or filename.endswith(\".png\"):\n",
    "            input_path = os.path.join(input_dir, filename)\n",
    "            output_path = os.path.join(output_dir, filename)\n",
    "            \n",
    "            # Read the image\n",
    "            image = cv2.imread(input_path)\n",
    "\n",
    "            # Flip the image horizontally\n",
    "            flipped_image = cv2.flip(image, 1)\n",
    "\n",
    "            # Save the flipped image\n",
    "            cv2.imwrite(output_path, flipped_image)"
   ]
  },
  {
   "cell_type": "code",
   "execution_count": 6,
   "metadata": {
    "executionInfo": {
     "elapsed": 264,
     "status": "ok",
     "timestamp": 1718142607671,
     "user": {
      "displayName": "Farhad Yousefi Razin",
      "userId": "15015908832686801351"
     },
     "user_tz": -120
    },
    "id": "g7ob8Z9FOSGJ"
   },
   "outputs": [],
   "source": [
    "input_dir = 'C://Users//user//Desktop//myown//data//washingtondc'  # Change this to your input directory\n",
    "output_dir = 'C://Users//user//Desktop//myown//output_folder//washingtondc-flipped'  # Change this to your desired output directory\n",
    "\n",
    "flip_images(input_dir, output_dir)"
   ]
  },
  {
   "cell_type": "markdown",
   "metadata": {},
   "source": [
    "### nightlight"
   ]
  },
  {
   "cell_type": "code",
   "execution_count": null,
   "metadata": {},
   "outputs": [],
   "source": [
    "#nightlight\n",
    "\n",
    "def daylight_to_nightlight(input_dir, output_dir):\n",
    "    # Ensure the output directory exists\n",
    "    os.makedirs(output_dir, exist_ok=True)\n",
    "    \n",
    "    # Loop through all files in the input directory\n",
    "    for filename in os.listdir(input_dir):\n",
    "        if filename.endswith(('.jpg', '.jpeg', '.png')):  # Check for image files\n",
    "            # Read the image\n",
    "            img = imread(os.path.join(input_dir, filename))\n",
    "            \n",
    "            # Apply the transformation\n",
    "            arr = img * np.array([0.1, 0.2, 0.5])\n",
    "            arr2 = (255 * arr / arr.max()).astype(np.uint8)\n",
    "            \n",
    "            # Write the output image\n",
    "            imwrite(os.path.join(output_dir, filename), arr2)\n",
    "\n",
    "    print(\"Processing complete.\")"
   ]
  },
  {
   "cell_type": "code",
   "execution_count": null,
   "metadata": {},
   "outputs": [],
   "source": [
    "input_dir = 'C://Users//user//Desktop//myown//data//losangeles'\n",
    "output_dir = 'C://Users//user//Desktop//myown//output_folder//losangeles-nightlight'\n",
    "\n",
    "daylight_to_nightlight(input_dir, output_dir)"
   ]
  },
  {
   "cell_type": "markdown",
   "metadata": {},
   "source": [
    "### Color Jitter"
   ]
  },
  {
   "cell_type": "code",
   "execution_count": 6,
   "metadata": {},
   "outputs": [],
   "source": [
    "def color_jitter_with_contrast(input_dir, output_dir, contrast_mean, contrast_std):\n",
    "    # Ensure the output directory exists\n",
    "    os.makedirs(output_dir, exist_ok=True)\n",
    "    \n",
    "    # Loop through all files in the input directory\n",
    "    for filename in os.listdir(input_dir):\n",
    "        if filename.endswith(('.jpg', '.jpeg', '.png')):  # Check for image files\n",
    "            # Read the image\n",
    "            img_path = os.path.join(input_dir, filename)\n",
    "            img = Image.open(img_path)\n",
    "            \n",
    "            # Apply color jitter (add random noise to each pixel)\n",
    "            arr = np.array(img)\n",
    "            noise = np.random.randint(0, 50, arr.shape, dtype='uint8')  # Random noise\n",
    "            arr = arr + noise\n",
    "            arr = np.clip(arr, 0, 255)  # Ensure values stay within [0, 255]\n",
    "            jittered_img = Image.fromarray(arr.astype('uint8'))\n",
    "            \n",
    "            # Apply contrast adjustment\n",
    "            contrast_factor = np.random.normal(contrast_mean, contrast_std)\n",
    "            contrast_factor = np.clip(contrast_factor, 1.4, 2.0)  # Ensure contrast factor is within [1, 2]\n",
    "            enhancer = ImageEnhance.Contrast(jittered_img)\n",
    "            img_contrast = enhancer.enhance(contrast_factor)\n",
    "            \n",
    "            # Save the output image\n",
    "            img_contrast.save(os.path.join(output_dir, filename))\n",
    "\n",
    "    print(\"Processing complete.\")\n",
    "\n",
    "    \n",
    "contrast_mean = 1.7  # Mean contrast factor\n",
    "contrast_std = 0.1   # Standard deviation of contrast factor\n",
    "\n"
   ]
  },
  {
   "cell_type": "code",
   "execution_count": 10,
   "metadata": {},
   "outputs": [
    {
     "name": "stdout",
     "output_type": "stream",
     "text": [
      "Processing complete.\n"
     ]
    }
   ],
   "source": [
    "input_dir = 'C://Users//user//Desktop//myown//data//mexicocity'\n",
    "output_dir = 'C://Users//user//Desktop//myown//output_folder//mexicocity-with-jitter'\n",
    "\n",
    "color_jitter_with_contrast(input_dir, output_dir, contrast_mean, contrast_std)"
   ]
  },
  {
   "cell_type": "code",
   "execution_count": null,
   "metadata": {},
   "outputs": [],
   "source": []
  }
 ],
 "metadata": {
  "accelerator": "GPU",
  "colab": {
   "provenance": []
  },
  "gpuClass": "standard",
  "kernelspec": {
   "display_name": "Python 3 (ipykernel)",
   "language": "python",
   "name": "python3"
  },
  "language_info": {
   "codemirror_mode": {
    "name": "ipython",
    "version": 3
   },
   "file_extension": ".py",
   "mimetype": "text/x-python",
   "name": "python",
   "nbconvert_exporter": "python",
   "pygments_lexer": "ipython3",
   "version": "3.9.12"
  }
 },
 "nbformat": 4,
 "nbformat_minor": 1
}
